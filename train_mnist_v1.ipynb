{
 "cells": [
  {
   "cell_type": "code",
   "execution_count": 1,
   "metadata": {},
   "outputs": [
    {
     "name": "stdout",
     "output_type": "stream",
     "text": [
      "['D:\\\\GitWork\\\\ants_and_bees', 'C:\\\\opt\\\\miniconda3\\\\envs\\\\py37\\\\python37.zip', 'C:\\\\opt\\\\miniconda3\\\\envs\\\\py37\\\\DLLs', 'C:\\\\opt\\\\miniconda3\\\\envs\\\\py37\\\\lib', 'C:\\\\opt\\\\miniconda3\\\\envs\\\\py37', '', 'C:\\\\opt\\\\miniconda3\\\\envs\\\\py37\\\\lib\\\\site-packages', 'C:\\\\opt\\\\miniconda3\\\\envs\\\\py37\\\\lib\\\\site-packages\\\\win32', 'C:\\\\opt\\\\miniconda3\\\\envs\\\\py37\\\\lib\\\\site-packages\\\\win32\\\\lib', 'C:\\\\opt\\\\miniconda3\\\\envs\\\\py37\\\\lib\\\\site-packages\\\\Pythonwin', 'C:\\\\opt\\\\miniconda3\\\\envs\\\\py37\\\\lib\\\\site-packages\\\\IPython\\\\extensions', 'C:\\\\Users\\\\Morpheus\\\\.ipython']\n"
     ]
    }
   ],
   "source": [
    "import os, sys\n",
    "from os.path import dirname\n",
    "\n",
    "root_path = os.path.abspath(os.getcwd())\n",
    "if not root_path in sys.path: sys.path.insert(0, root_path)\n",
    "    \n",
    "print(sys.path)"
   ]
  },
  {
   "cell_type": "code",
   "execution_count": 2,
   "metadata": {},
   "outputs": [],
   "source": [
    "# If you want to download MNIST data by torchvision function\n",
    "\n",
    "# your_data_path = ''\n",
    "# torchvision.datasets.MNIST(your_data_path, train=True, transform=None, target_transform=None, download=True)"
   ]
  },
  {
   "cell_type": "code",
   "execution_count": 3,
   "metadata": {},
   "outputs": [
    {
     "name": "stdout",
     "output_type": "stream",
     "text": [
      "'D:\\GitWork\\mnist\\data\\processed\\training.pt' exist: True\n",
      "'D:\\GitWork\\mnist\\data\\processed\\test.pt' exist: True\n",
      "True\n",
      "True\n",
      "[ 't10k-images-idx3-ubyte',\n",
      "  't10k-images-idx3-ubyte.gz',\n",
      "  't10k-labels-idx1-ubyte',\n",
      "  't10k-labels-idx1-ubyte.gz',\n",
      "  'train-images-idx3-ubyte',\n",
      "  'train-images-idx3-ubyte.gz',\n",
      "  'train-labels-idx1-ubyte',\n",
      "  'train-labels-idx1-ubyte.gz']\n"
     ]
    }
   ],
   "source": [
    "# e can use download files to create 'training.pt' and 'test.pt'\n",
    "\n",
    "import gzip\n",
    "import pprint\n",
    "import shutil\n",
    "\n",
    "RootPath_Code = 'D:\\\\GitWork\\\\mnist\\\\'\n",
    "RootPath_Data = 'D:\\\\GitWork\\\\mnist\\\\data\\\\'\n",
    "\n",
    "Dir_Processed = 'processed'\n",
    "Dir_Raw = 'raw'\n",
    "\n",
    "Fname_Train = 'training.pt'\n",
    "Fname_Test  = 'test.pt'\n",
    "\n",
    "Resources = [\n",
    "    \"train-images-idx3-ubyte.gz\", \n",
    "    \"train-labels-idx1-ubyte.gz\",\n",
    "    \"t10k-images-idx3-ubyte.gz\",\n",
    "    \"t10k-labels-idx1-ubyte.gz\"\n",
    "]\n",
    "\n",
    "path_processed = os.path.join(RootPath_Data, Dir_Processed)\n",
    "path_raw = os.path.join(RootPath_Data, Dir_Raw)\n",
    "\n",
    "if not os.path.exists(path_processed): os.makedirs(path_processed)\n",
    "\n",
    "abspath_trainset = os.path.join(path_processed, Fname_Train)\n",
    "abspath_testset  = os.path.join(path_processed, Fname_Test)\n",
    "\n",
    "isTrainDataExist = os.path.exists(abspath_trainset)\n",
    "isTestDataExist  = os.path.exists(abspath_testset)\n",
    "\n",
    "print(\"'{}' exist: {}\".format(abspath_trainset, isTrainDataExist))\n",
    "print(\"'{}' exist: {}\".format(abspath_testset, isTestDataExist))\n",
    "\n",
    "# If all files exist then return 'True' else 'False'\n",
    "def isExistAllFiles(path, files, debug=False):\n",
    "    isExistList = [os.path.exists(os.path.join(path, f)) for f in files]\n",
    "    if debug: print(isExistList)\n",
    "    return all(isExistList)\n",
    "                    \n",
    "isExistResources = isExistAllFiles(path_raw, Resources)\n",
    "print(isExistResources)\n",
    "\n",
    "datafiles = [f.replace('.gz', '') for f in Resources]\n",
    "isExistDataFiles = isExistAllFiles(path_raw, datafiles)\n",
    "print(isExistDataFiles)\n",
    "    \n",
    "if not isExistDataFiles and isExistResources:\n",
    "    print('Data files not exist, decompressing...')\n",
    "    for f in Resources:\n",
    "        inFile  = os.path.join(path_raw, f)\n",
    "        outFile = os.path.join(path_raw, f.replace('.gz', ''))\n",
    "        with gzip.open(inFile, 'r') as f_in, open(outFile, 'wb') as f_out:\n",
    "            shutil.copyfileobj(f_in, f_out)      \n",
    "    print('Data files decompressed')\n",
    "\n",
    "filelist = [f for f in os.listdir(path_raw)]\n",
    "pp = pprint.PrettyPrinter(indent=2)\n",
    "pp.pprint(filelist)"
   ]
  },
  {
   "cell_type": "code",
   "execution_count": 4,
   "metadata": {},
   "outputs": [
    {
     "name": "stderr",
     "output_type": "stream",
     "text": [
      "..\\torch\\csrc\\utils\\tensor_numpy.cpp:141: UserWarning: The given NumPy array is not writeable, and PyTorch does not support non-writeable tensors. This means you can write to the underlying (supposedly non-writeable) NumPy array using the tensor. You may want to copy the array to protect its data or make it writeable before converting it to a tensor. This type of warning will be suppressed for the rest of this program.\n"
     ]
    },
    {
     "name": "stdout",
     "output_type": "stream",
     "text": [
      "training.pt exist: True\n",
      "test.pt exist: True\n"
     ]
    }
   ],
   "source": [
    "from __future__ import print_function, division  \n",
    "\n",
    "import codecs\n",
    "import numpy as np\n",
    "import time\n",
    "\n",
    "import torch\n",
    "import torchvision\n",
    "from torch.utils.data import Dataset, DataLoader\n",
    "from torchvision import transforms, utils\n",
    "\n",
    "\n",
    "def get_int(b):\n",
    "    return int(codecs.encode(b, 'hex'), 16)\n",
    "\n",
    "def open_maybe_compressed_file(path):\n",
    "    \"\"\"Return a file object that possibly decompresses 'path' on the fly.\n",
    "       Decompression occurs when argument `path` is a string and ends with '.gz' or '.xz'.\n",
    "    \"\"\"\n",
    "    if not isinstance(path, torch._six.string_classes):\n",
    "        return path\n",
    "    if path.endswith('.gz'):\n",
    "        import gzip\n",
    "        return gzip.open(path, 'rb')\n",
    "    if path.endswith('.xz'):\n",
    "        import lzma\n",
    "        return lzma.open(path, 'rb')\n",
    "    return open(path, 'rb')\n",
    "\n",
    "def read_sn3_pascalvincent_tensor(path, strict=True):\n",
    "    \"\"\"Read a SN3 file in \"Pascal Vincent\" format (Lush file 'libidx/idx-io.lsh').\n",
    "       Argument may be a filename, compressed filename, or file object.\n",
    "    \"\"\"\n",
    "    # typemap\n",
    "    if not hasattr(read_sn3_pascalvincent_tensor, 'typemap'):\n",
    "        read_sn3_pascalvincent_tensor.typemap = {\n",
    "            8: (torch.uint8, np.uint8, np.uint8),\n",
    "            9: (torch.int8, np.int8, np.int8),\n",
    "            11: (torch.int16, np.dtype('>i2'), 'i2'),\n",
    "            12: (torch.int32, np.dtype('>i4'), 'i4'),\n",
    "            13: (torch.float32, np.dtype('>f4'), 'f4'),\n",
    "            14: (torch.float64, np.dtype('>f8'), 'f8')\n",
    "        }\n",
    "        \n",
    "    # read\n",
    "    with open_maybe_compressed_file(path) as f:\n",
    "        data = f.read()\n",
    "\n",
    "    # parse\n",
    "    magic = get_int(data[0:4])\n",
    "    nd = magic % 256\n",
    "    ty = magic // 256\n",
    "    assert nd >= 1 and nd <= 3\n",
    "    assert ty >= 8 and ty <= 14\n",
    "    m = read_sn3_pascalvincent_tensor.typemap[ty]\n",
    "    s = [get_int(data[4 * (i + 1): 4 * (i + 2)]) for i in range(nd)]\n",
    "    parsed = np.frombuffer(data, dtype=m[1], offset=(4 * (nd + 1)))\n",
    "    assert parsed.shape[0] == np.prod(s) or not strict\n",
    "    return torch.from_numpy(parsed.astype(m[2], copy=False)).view(*s)\n",
    "\n",
    "def read_image_file(path):\n",
    "    with open(path, 'rb') as f:\n",
    "        x = read_sn3_pascalvincent_tensor(f, strict=False)\n",
    "    assert(x.dtype == torch.uint8)\n",
    "    assert(x.ndimension() == 3)\n",
    "    return x\n",
    "\n",
    "def read_label_file(path):\n",
    "    with open(path, 'rb') as f:\n",
    "        x = read_sn3_pascalvincent_tensor(f, strict=False)\n",
    "    assert(x.dtype == torch.uint8)\n",
    "    assert(x.ndimension() == 1)\n",
    "    return x.long()\n",
    "\n",
    "\n",
    "def createProcessedDataFiles(path, inFiles, outFiles):\n",
    "\n",
    "    training_set = (\n",
    "        read_image_file(os.path.join(path, inFiles[0])),\n",
    "        read_label_file(os.path.join(path, inFiles[1]))\n",
    "    )\n",
    "\n",
    "    test_set = (\n",
    "        read_image_file(os.path.join(path, inFiles[2])),\n",
    "        read_label_file(os.path.join(path, inFiles[3]))\n",
    "    )\n",
    "    \n",
    "    with open(os.path.join(path_processed, outFiles[0]), 'wb') as f:\n",
    "        torch.save(training_set, f)\n",
    "\n",
    "    with open(os.path.join(path_processed, outFiles[1]), 'wb') as f:\n",
    "        torch.save(test_set, f)\n",
    "    \n",
    "    return (0)\n",
    "\n",
    "\n",
    "inFiles  = [f.replace('.gz', '') for f in Resources]\n",
    "outFiles = [Fname_Train, Fname_Test]\n",
    "isExistPtFiles = isExistAllFiles(path_processed, outFiles)\n",
    "if not isExistPtFiles:\n",
    "    createProcessedDataFiles(path_raw, inFiles, outFiles)\n",
    "\n",
    "for f in outFiles:\n",
    "    isExist = os.path.exists(os.path.join(path_processed, f))\n",
    "    print('{} exist: {}'.format(f, isExist))\n"
   ]
  },
  {
   "cell_type": "code",
   "execution_count": 5,
   "metadata": {},
   "outputs": [
    {
     "name": "stdout",
     "output_type": "stream",
     "text": [
      "torch.Size([60000, 28, 28])\n",
      "torch.Size([60000])\n"
     ]
    },
    {
     "data": {
      "image/png": "[encoded data removed]",
      "text/plain": [
       "<Figure size 432x288 with 1 Axes>"
      ]
     },
     "metadata": {
      "needs_background": "light"
     },
     "output_type": "display_data"
    }
   ],
   "source": [
    "import matplotlib.pyplot as plt\n",
    "\n",
    "normalize = transforms.Normalize((0.1307,), (0.3081,))\n",
    "\n",
    "transform_train = transforms.Compose([\n",
    "    transforms.ToTensor(),\n",
    "    normalize\n",
    "])\n",
    "\n",
    "# Load entire dataset\n",
    "train_image, train_label = torch.load(os.path.join(path_processed, Fname_Train))\n",
    "print(train_image.shape)\n",
    "print(train_label.shape)\n",
    "\n",
    "classes = []\n",
    "\n",
    "class myMnistDataset(Dataset):\n",
    "\n",
    "    def __init__(self, path, fname):\n",
    "        abspath_fname = os.path.join(path, fname)\n",
    "        images, labels = torch.load(abspath_fname)\n",
    "        self.images = images\n",
    "        self.labels = labels\n",
    "        \n",
    "\n",
    "    def __len__(self):\n",
    "        return len(self.images)\n",
    "\n",
    "    def __getitem__(self, index):\n",
    "        return self.images[index], self.labels[index]\n",
    "        \n",
    "dataset_train = myMnistDataset(path_processed, Fname_Train)\n",
    "trainX, trainY = dataset_train[0]\n",
    "\n",
    "def imgshow(image, label):\n",
    "    plt.imshow(image.reshape(28,28), cmap='binary')\n",
    "    plt.title(\"label = \" + str(label))\n",
    "    plt.show()\n",
    "    \n",
    "image = trainX\n",
    "label = trainY.numpy()\n",
    "imgshow(image, label)\n"
   ]
  },
  {
   "cell_type": "code",
   "execution_count": null,
   "metadata": {},
   "outputs": [],
   "source": [
    "\n",
    "\n"
   ]
  }
 ],
 "metadata": {
  "kernelspec": {
   "display_name": "Python 3",
   "language": "python",
   "name": "python3"
  },
  "language_info": {
   "codemirror_mode": {
    "name": "ipython",
    "version": 3
   },
   "file_extension": ".py",
   "mimetype": "text/x-python",
   "name": "python",
   "nbconvert_exporter": "python",
   "pygments_lexer": "ipython3",
   "version": "3.7.7"
  }
 },
 "nbformat": 4,
 "nbformat_minor": 4
}
