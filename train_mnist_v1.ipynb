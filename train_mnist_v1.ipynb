{
 "cells": [
  {
   "cell_type": "code",
   "execution_count": 1,
   "metadata": {},
   "outputs": [
    {
     "name": "stdout",
     "output_type": "stream",
     "text": [
      "['D:\\\\GitWork\\\\ants_and_bees', 'C:\\\\opt\\\\miniconda3\\\\envs\\\\py37\\\\python37.zip', 'C:\\\\opt\\\\miniconda3\\\\envs\\\\py37\\\\DLLs', 'C:\\\\opt\\\\miniconda3\\\\envs\\\\py37\\\\lib', 'C:\\\\opt\\\\miniconda3\\\\envs\\\\py37', '', 'C:\\\\opt\\\\miniconda3\\\\envs\\\\py37\\\\lib\\\\site-packages', 'C:\\\\opt\\\\miniconda3\\\\envs\\\\py37\\\\lib\\\\site-packages\\\\win32', 'C:\\\\opt\\\\miniconda3\\\\envs\\\\py37\\\\lib\\\\site-packages\\\\win32\\\\lib', 'C:\\\\opt\\\\miniconda3\\\\envs\\\\py37\\\\lib\\\\site-packages\\\\Pythonwin', 'C:\\\\opt\\\\miniconda3\\\\envs\\\\py37\\\\lib\\\\site-packages\\\\IPython\\\\extensions', 'C:\\\\Users\\\\Morpheus\\\\.ipython']\n"
     ]
    }
   ],
   "source": [
    "import os, sys\n",
    "from os.path import dirname\n",
    "\n",
    "root_path = os.path.abspath(os.getcwd())\n",
    "if not root_path in sys.path: sys.path.insert(0, root_path)\n",
    "    \n",
    "print(sys.path)"
   ]
  },
  {
   "cell_type": "code",
   "execution_count": 68,
   "metadata": {},
   "outputs": [
    {
     "name": "stdout",
     "output_type": "stream",
     "text": [
      "'D:\\GitWork\\mnist\\data\\processed\\training.pt' exist: False\n",
      "'D:\\GitWork\\mnist\\data\\processed\\test.pt' exist: False\n",
      "[True, True, True, True]\n",
      "True\n"
     ]
    }
   ],
   "source": [
    "RootPath_Code = 'D:\\\\GitWork\\\\mnist\\\\'\n",
    "RootPath_Data = 'D:\\\\GitWork\\\\mnist\\\\data\\\\'\n",
    "\n",
    "Dir_Processed = 'processed'\n",
    "Dir_Raw = 'raw'\n",
    "\n",
    "Fname_Train = 'training.pt'\n",
    "Fname_Test  = 'test.pt'\n",
    "\n",
    "Resources = [\n",
    "    \"train-images-idx3-ubyte.gz\", \n",
    "    \"train-labels-idx1-ubyte.gz\",\n",
    "    \"t10k-images-idx3-ubyte.gz\",\n",
    "    \"t10k-labels-idx1-ubyte.gz\"\n",
    "]\n",
    "\n",
    "path_processed = os.path.join(RootPath_Data, Dir_Processed)\n",
    "path_raw = os.path.join(RootPath_Data, Dir_Raw)\n",
    "\n",
    "if not os.path.exists(path_processed): os.makedirs(path_processed)\n",
    "\n",
    "abspath_trainset = os.path.join(path_processed, Fname_Train)\n",
    "abspath_testset  = os.path.join(path_processed, Fname_Test)\n",
    "\n",
    "isTrainDataExist = os.path.exists(abspath_trainset)\n",
    "isTestDataExist  = os.path.exists(abspath_testset)\n",
    "\n",
    "print(\"'{}' exist: {}\".format(abspath_trainset, isTrainDataExist))\n",
    "print(\"'{}' exist: {}\".format(abspath_testset, isTestDataExist))\n",
    "\n",
    "isResourcesExist = [os.path.exists(os.path.join(path_raw, f)) for f in Resources]\n",
    "print(isResourcesExist)\n",
    "\n",
    "# If all resource files exist then return 'True' else 'False'\n",
    "isAllResourcesExist = all(isResourcesExist)\n",
    "print(isAllResourcesExist)"
   ]
  },
  {
   "cell_type": "code",
   "execution_count": 69,
   "metadata": {},
   "outputs": [],
   "source": [
    "# If you want to download MNIST data by torchvision function\n",
    "\n",
    "# your_data_path = ''\n",
    "# torchvision.datasets.MNIST(your_data_path, train=True, transform=None, target_transform=None, download=True)"
   ]
  },
  {
   "cell_type": "code",
   "execution_count": 71,
   "metadata": {},
   "outputs": [
    {
     "ename": "AssertionError",
     "evalue": "",
     "output_type": "error",
     "traceback": [
      "\u001b[1;31m---------------------------------------------------------------------------\u001b[0m",
      "\u001b[1;31mAssertionError\u001b[0m                            Traceback (most recent call last)",
      "\u001b[1;32m<ipython-input-71-c0023e8cb87c>\u001b[0m in \u001b[0;36m<module>\u001b[1;34m\u001b[0m\n\u001b[0;32m     81\u001b[0m \u001b[1;33m\u001b[0m\u001b[0m\n\u001b[0;32m     82\u001b[0m \u001b[0mFname_Files\u001b[0m \u001b[1;33m=\u001b[0m \u001b[1;33m[\u001b[0m\u001b[0mFname_Train\u001b[0m\u001b[1;33m,\u001b[0m \u001b[0mFname_Test\u001b[0m\u001b[1;33m]\u001b[0m\u001b[1;33m\u001b[0m\u001b[1;33m\u001b[0m\u001b[0m\n\u001b[1;32m---> 83\u001b[1;33m \u001b[0mcreateProcessedData\u001b[0m\u001b[1;33m(\u001b[0m\u001b[0mResources\u001b[0m\u001b[1;33m,\u001b[0m \u001b[0mFname_Files\u001b[0m\u001b[1;33m)\u001b[0m\u001b[1;33m\u001b[0m\u001b[1;33m\u001b[0m\u001b[0m\n\u001b[0m\u001b[0;32m     84\u001b[0m \u001b[1;33m\u001b[0m\u001b[0m\n\u001b[0;32m     85\u001b[0m \u001b[1;32mfor\u001b[0m \u001b[0mf\u001b[0m \u001b[1;32min\u001b[0m \u001b[0mdata_fnames\u001b[0m\u001b[1;33m:\u001b[0m\u001b[1;33m\u001b[0m\u001b[1;33m\u001b[0m\u001b[0m\n",
      "\u001b[1;32m<ipython-input-71-c0023e8cb87c>\u001b[0m in \u001b[0;36mcreateProcessedData\u001b[1;34m(resources, fname_files)\u001b[0m\n\u001b[0;32m     64\u001b[0m \u001b[1;33m\u001b[0m\u001b[0m\n\u001b[0;32m     65\u001b[0m     training_set = (\n\u001b[1;32m---> 66\u001b[1;33m         \u001b[0mread_image_file\u001b[0m\u001b[1;33m(\u001b[0m\u001b[0mos\u001b[0m\u001b[1;33m.\u001b[0m\u001b[0mpath\u001b[0m\u001b[1;33m.\u001b[0m\u001b[0mjoin\u001b[0m\u001b[1;33m(\u001b[0m\u001b[0mpath_raw\u001b[0m\u001b[1;33m,\u001b[0m \u001b[0mresources\u001b[0m\u001b[1;33m[\u001b[0m\u001b[1;36m0\u001b[0m\u001b[1;33m]\u001b[0m\u001b[1;33m)\u001b[0m\u001b[1;33m)\u001b[0m\u001b[1;33m,\u001b[0m\u001b[1;33m\u001b[0m\u001b[1;33m\u001b[0m\u001b[0m\n\u001b[0m\u001b[0;32m     67\u001b[0m         \u001b[0mread_label_file\u001b[0m\u001b[1;33m(\u001b[0m\u001b[0mos\u001b[0m\u001b[1;33m.\u001b[0m\u001b[0mpath\u001b[0m\u001b[1;33m.\u001b[0m\u001b[0mjoin\u001b[0m\u001b[1;33m(\u001b[0m\u001b[0mpath_raw\u001b[0m\u001b[1;33m,\u001b[0m \u001b[0mresources\u001b[0m\u001b[1;33m[\u001b[0m\u001b[1;36m1\u001b[0m\u001b[1;33m]\u001b[0m\u001b[1;33m)\u001b[0m\u001b[1;33m)\u001b[0m\u001b[1;33m\u001b[0m\u001b[1;33m\u001b[0m\u001b[0m\n\u001b[0;32m     68\u001b[0m     )\n",
      "\u001b[1;32m<ipython-input-71-c0023e8cb87c>\u001b[0m in \u001b[0;36mread_image_file\u001b[1;34m(path)\u001b[0m\n\u001b[0;32m     48\u001b[0m \u001b[1;32mdef\u001b[0m \u001b[0mread_image_file\u001b[0m\u001b[1;33m(\u001b[0m\u001b[0mpath\u001b[0m\u001b[1;33m)\u001b[0m\u001b[1;33m:\u001b[0m\u001b[1;33m\u001b[0m\u001b[1;33m\u001b[0m\u001b[0m\n\u001b[0;32m     49\u001b[0m     \u001b[1;32mwith\u001b[0m \u001b[0mopen\u001b[0m\u001b[1;33m(\u001b[0m\u001b[0mpath\u001b[0m\u001b[1;33m,\u001b[0m \u001b[1;34m'rb'\u001b[0m\u001b[1;33m)\u001b[0m \u001b[1;32mas\u001b[0m \u001b[0mf\u001b[0m\u001b[1;33m:\u001b[0m\u001b[1;33m\u001b[0m\u001b[1;33m\u001b[0m\u001b[0m\n\u001b[1;32m---> 50\u001b[1;33m         \u001b[0mx\u001b[0m \u001b[1;33m=\u001b[0m \u001b[0mread_sn3_pascalvincent_tensor\u001b[0m\u001b[1;33m(\u001b[0m\u001b[0mf\u001b[0m\u001b[1;33m,\u001b[0m \u001b[0mstrict\u001b[0m\u001b[1;33m=\u001b[0m\u001b[1;32mFalse\u001b[0m\u001b[1;33m)\u001b[0m\u001b[1;33m\u001b[0m\u001b[1;33m\u001b[0m\u001b[0m\n\u001b[0m\u001b[0;32m     51\u001b[0m     \u001b[1;32massert\u001b[0m\u001b[1;33m(\u001b[0m\u001b[0mx\u001b[0m\u001b[1;33m.\u001b[0m\u001b[0mdtype\u001b[0m \u001b[1;33m==\u001b[0m \u001b[0mtorch\u001b[0m\u001b[1;33m.\u001b[0m\u001b[0muint8\u001b[0m\u001b[1;33m)\u001b[0m\u001b[1;33m\u001b[0m\u001b[1;33m\u001b[0m\u001b[0m\n\u001b[0;32m     52\u001b[0m     \u001b[1;32massert\u001b[0m\u001b[1;33m(\u001b[0m\u001b[0mx\u001b[0m\u001b[1;33m.\u001b[0m\u001b[0mndimension\u001b[0m\u001b[1;33m(\u001b[0m\u001b[1;33m)\u001b[0m \u001b[1;33m==\u001b[0m \u001b[1;36m3\u001b[0m\u001b[1;33m)\u001b[0m\u001b[1;33m\u001b[0m\u001b[1;33m\u001b[0m\u001b[0m\n",
      "\u001b[1;32m<ipython-input-71-c0023e8cb87c>\u001b[0m in \u001b[0;36mread_sn3_pascalvincent_tensor\u001b[1;34m(path, strict)\u001b[0m\n\u001b[0;32m     38\u001b[0m     \u001b[0mnd\u001b[0m \u001b[1;33m=\u001b[0m \u001b[0mmagic\u001b[0m \u001b[1;33m%\u001b[0m \u001b[1;36m256\u001b[0m\u001b[1;33m\u001b[0m\u001b[1;33m\u001b[0m\u001b[0m\n\u001b[0;32m     39\u001b[0m     \u001b[0mty\u001b[0m \u001b[1;33m=\u001b[0m \u001b[0mmagic\u001b[0m \u001b[1;33m//\u001b[0m \u001b[1;36m256\u001b[0m\u001b[1;33m\u001b[0m\u001b[1;33m\u001b[0m\u001b[0m\n\u001b[1;32m---> 40\u001b[1;33m     \u001b[1;32massert\u001b[0m \u001b[0mnd\u001b[0m \u001b[1;33m>=\u001b[0m \u001b[1;36m1\u001b[0m \u001b[1;32mand\u001b[0m \u001b[0mnd\u001b[0m \u001b[1;33m<=\u001b[0m \u001b[1;36m3\u001b[0m\u001b[1;33m\u001b[0m\u001b[1;33m\u001b[0m\u001b[0m\n\u001b[0m\u001b[0;32m     41\u001b[0m     \u001b[1;32massert\u001b[0m \u001b[0mty\u001b[0m \u001b[1;33m>=\u001b[0m \u001b[1;36m8\u001b[0m \u001b[1;32mand\u001b[0m \u001b[0mty\u001b[0m \u001b[1;33m<=\u001b[0m \u001b[1;36m14\u001b[0m\u001b[1;33m\u001b[0m\u001b[1;33m\u001b[0m\u001b[0m\n\u001b[0;32m     42\u001b[0m     \u001b[0mm\u001b[0m \u001b[1;33m=\u001b[0m \u001b[0mread_sn3_pascalvincent_tensor\u001b[0m\u001b[1;33m.\u001b[0m\u001b[0mtypemap\u001b[0m\u001b[1;33m[\u001b[0m\u001b[0mty\u001b[0m\u001b[1;33m]\u001b[0m\u001b[1;33m\u001b[0m\u001b[1;33m\u001b[0m\u001b[0m\n",
      "\u001b[1;31mAssertionError\u001b[0m: "
     ]
    }
   ],
   "source": [
    "import codecs\n",
    "\n",
    "def get_int(b):\n",
    "    return int(codecs.encode(b, 'hex'), 16)\n",
    "\n",
    "def open_maybe_compressed_file(path):\n",
    "    \"\"\"Return a file object that possibly decompresses 'path' on the fly.\n",
    "       Decompression occurs when argument `path` is a string and ends with '.gz' or '.xz'.\n",
    "    \"\"\"\n",
    "    if not isinstance(path, torch._six.string_classes):\n",
    "        return path\n",
    "    if path.endswith('.gz'):\n",
    "        import gzip\n",
    "        return gzip.open(path, 'rb')\n",
    "    if path.endswith('.xz'):\n",
    "        import lzma\n",
    "        return lzma.open(path, 'rb')\n",
    "    return open(path, 'rb')\n",
    "\n",
    "def read_sn3_pascalvincent_tensor(path, strict=True):\n",
    "    \"\"\"Read a SN3 file in \"Pascal Vincent\" format (Lush file 'libidx/idx-io.lsh').\n",
    "       Argument may be a filename, compressed filename, or file object.\n",
    "    \"\"\"\n",
    "    # typemap\n",
    "    if not hasattr(read_sn3_pascalvincent_tensor, 'typemap'):\n",
    "        read_sn3_pascalvincent_tensor.typemap = {\n",
    "            8: (torch.uint8, np.uint8, np.uint8),\n",
    "            9: (torch.int8, np.int8, np.int8),\n",
    "            11: (torch.int16, np.dtype('>i2'), 'i2'),\n",
    "            12: (torch.int32, np.dtype('>i4'), 'i4'),\n",
    "            13: (torch.float32, np.dtype('>f4'), 'f4'),\n",
    "            14: (torch.float64, np.dtype('>f8'), 'f8')}\n",
    "    # read\n",
    "    with open_maybe_compressed_file(path) as f:\n",
    "        data = f.read()\n",
    "    # parse\n",
    "    magic = get_int(data[0:4])\n",
    "    nd = magic % 256\n",
    "    ty = magic // 256\n",
    "    assert nd >= 1 and nd <= 3\n",
    "    assert ty >= 8 and ty <= 14\n",
    "    m = read_sn3_pascalvincent_tensor.typemap[ty]\n",
    "    s = [get_int(data[4 * (i + 1): 4 * (i + 2)]) for i in range(nd)]\n",
    "    parsed = np.frombuffer(data, dtype=m[1], offset=(4 * (nd + 1)))\n",
    "    assert parsed.shape[0] == np.prod(s) or not strict\n",
    "    return torch.from_numpy(parsed.astype(m[2], copy=False)).view(*s)\n",
    "\n",
    "def read_image_file(path):\n",
    "    with open(path, 'rb') as f:\n",
    "        x = read_sn3_pascalvincent_tensor(f, strict=False)\n",
    "    assert(x.dtype == torch.uint8)\n",
    "    assert(x.ndimension() == 3)\n",
    "    return x\n",
    "\n",
    "def read_label_file(path):\n",
    "    with open(path, 'rb') as f:\n",
    "        x = read_sn3_pascalvincent_tensor(f, strict=False)\n",
    "    assert(x.dtype == torch.uint8)\n",
    "    assert(x.ndimension() == 1)\n",
    "    return x.long()\n",
    "\n",
    "\n",
    "def createProcessedData(resources, fname_files):\n",
    "\n",
    "    training_set = (\n",
    "        read_image_file(os.path.join(path_raw, resources[0])),\n",
    "        read_label_file(os.path.join(path_raw, resources[1]))\n",
    "    )\n",
    "\n",
    "    test_set = (\n",
    "        read_image_file(os.path.join(path_raw, resources[2])),\n",
    "        read_label_file(os.path.join(path_raw, resources[3]))\n",
    "    )\n",
    "    \n",
    "    with open(os.path.join(path_processed, fname_files[0]), 'wb') as f:\n",
    "        torch.save(training_set, f)\n",
    "\n",
    "    with open(os.path.join(path_processed, fname_files[1]), 'wb') as f:\n",
    "        torch.save(test_set, f)\n",
    "    \n",
    "\n",
    "Fname_Files = [Fname_Train, Fname_Test]\n",
    "createProcessedData(Resources, Fname_Files)\n",
    "\n",
    "for f in data_fnames:\n",
    "    isExist = os.path.exists(os.path.join(path_processed, f))\n",
    "    print('{} exist: {}'.format(f, isTrainDataExist))\n"
   ]
  },
  {
   "cell_type": "code",
   "execution_count": 62,
   "metadata": {},
   "outputs": [],
   "source": [
    "from __future__ import print_function, division  \n",
    "\n",
    "import numpy as np\n",
    "import time\n",
    "import torch\n",
    "import torchvision\n",
    "\n",
    "from torch.utils.data import Dataset, DataLoader\n",
    "from torchvision import transforms, utils"
   ]
  },
  {
   "cell_type": "code",
   "execution_count": 6,
   "metadata": {},
   "outputs": [],
   "source": [
    "    \n",
    "    "
   ]
  },
  {
   "cell_type": "code",
   "execution_count": 10,
   "metadata": {},
   "outputs": [
    {
     "name": "stdout",
     "output_type": "stream",
     "text": [
      "Downloading http://yann.lecun.com/exdb/mnist/train-images-idx3-ubyte.gz to D:\\Dataset\\MNIST\\raw\\train-images-idx3-ubyte.gz\n"
     ]
    },
    {
     "name": "stderr",
     "output_type": "stream",
     "text": [
      "100.1%"
     ]
    },
    {
     "name": "stdout",
     "output_type": "stream",
     "text": [
      "Extracting D:\\Dataset\\MNIST\\raw\\train-images-idx3-ubyte.gz to D:\\Dataset\\MNIST\\raw\n",
      "Downloading http://yann.lecun.com/exdb/mnist/train-labels-idx1-ubyte.gz to D:\\Dataset\\MNIST\\raw\\train-labels-idx1-ubyte.gz\n"
     ]
    },
    {
     "name": "stderr",
     "output_type": "stream",
     "text": [
      "113.5%"
     ]
    },
    {
     "name": "stdout",
     "output_type": "stream",
     "text": [
      "Extracting D:\\Dataset\\MNIST\\raw\\train-labels-idx1-ubyte.gz to D:\\Dataset\\MNIST\\raw\n",
      "Downloading http://yann.lecun.com/exdb/mnist/t10k-images-idx3-ubyte.gz to D:\\Dataset\\MNIST\\raw\\t10k-images-idx3-ubyte.gz\n"
     ]
    },
    {
     "name": "stderr",
     "output_type": "stream",
     "text": [
      "100.4%"
     ]
    },
    {
     "name": "stdout",
     "output_type": "stream",
     "text": [
      "Extracting D:\\Dataset\\MNIST\\raw\\t10k-images-idx3-ubyte.gz to D:\\Dataset\\MNIST\\raw\n",
      "Downloading http://yann.lecun.com/exdb/mnist/t10k-labels-idx1-ubyte.gz to D:\\Dataset\\MNIST\\raw\\t10k-labels-idx1-ubyte.gz\n"
     ]
    },
    {
     "name": "stderr",
     "output_type": "stream",
     "text": [
      "180.4%"
     ]
    },
    {
     "name": "stdout",
     "output_type": "stream",
     "text": [
      "Extracting D:\\Dataset\\MNIST\\raw\\t10k-labels-idx1-ubyte.gz to D:\\Dataset\\MNIST\\raw\n",
      "Processing...\n",
      "Done!\n"
     ]
    },
    {
     "data": {
      "text/plain": [
       "Dataset MNIST\n",
       "    Number of datapoints: 60000\n",
       "    Root location: D:\\Dataset\n",
       "    Split: Train"
      ]
     },
     "execution_count": 10,
     "metadata": {},
     "output_type": "execute_result"
    }
   ],
   "source": []
  },
  {
   "cell_type": "code",
   "execution_count": null,
   "metadata": {},
   "outputs": [],
   "source": []
  }
 ],
 "metadata": {
  "kernelspec": {
   "display_name": "Python 3",
   "language": "python",
   "name": "python3"
  },
  "language_info": {
   "codemirror_mode": {
    "name": "ipython",
    "version": 3
   },
   "file_extension": ".py",
   "mimetype": "text/x-python",
   "name": "python",
   "nbconvert_exporter": "python",
   "pygments_lexer": "ipython3",
   "version": "3.7.7"
  }
 },
 "nbformat": 4,
 "nbformat_minor": 4
}
