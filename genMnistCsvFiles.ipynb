{
 "cells": [
  {
   "cell_type": "code",
   "execution_count": 1,
   "metadata": {},
   "outputs": [],
   "source": [
    "# this is the script to generate the csv files from the original data.\n",
    "import os, sys\n",
    "\n",
    "def convert(imgf, labelf, outf, n):\n",
    "    f = open(imgf, \"rb\")\n",
    "    o = open(outf, \"w\")\n",
    "    l = open(labelf, \"rb\")\n",
    "\n",
    "    f.read(16)\n",
    "    l.read(8)\n",
    "    images = []\n",
    "\n",
    "    for i in range(n):\n",
    "        image = [ord(l.read(1))]\n",
    "        for j in range(28*28):\n",
    "            image.append(ord(f.read(1)))\n",
    "        images.append(image)\n",
    "\n",
    "    for image in images:\n",
    "        o.write(\",\".join(str(pix) for pix in image)+\"\\n\")\n",
    "    f.close()\n",
    "    o.close()\n",
    "    l.close()\n",
    "\n",
    "processed_path = r'D:\\GitWork\\mnist\\data\\raw'\n",
    "csvfile_path = r'D:\\GitWork\\mnist\\csvFiles'\n",
    "\n",
    "if not os.path.exists(csvfile_path): os.makedirs(csvfile_path)\n",
    "\n",
    "resources = [{ \n",
    "        \"image\": \"train-images-idx3-ubyte\", \n",
    "        \"label\": \"train-labels-idx1-ubyte\",\n",
    "        \"count\": 60000,\n",
    "        \"csv_name\": \"mnist_train.csv\"\n",
    "    }, {\n",
    "        \"image\": \"t10k-images-idx3-ubyte\",  \n",
    "        \"label\": \"t10k-labels-idx1-ubyte\",\n",
    "        \"count\": 10000,\n",
    "        \"csv_name\": \"mnist_test.csv\"\n",
    "    }]\n",
    "\n",
    "\n",
    "for r in resources:\n",
    "    img_path = os.path.join(processed_path, r['image'])\n",
    "    lbl_path = os.path.join(processed_path, r['label'])\n",
    "    out_path = os.path.join(csvfile_path, r['csv_name'])\n",
    "    cnt = r['count']\n",
    "    convert(img_path, lbl_path, out_path, cnt)\n",
    "\n",
    "print('done')"
   ]
  },
  {
   "cell_type": "code",
   "execution_count": null,
   "metadata": {},
   "outputs": [],
   "source": []
  }
 ],
 "metadata": {
  "kernelspec": {
   "display_name": "Python 3",
   "language": "python",
   "name": "python3"
  },
  "language_info": {
   "codemirror_mode": {
    "name": "ipython",
    "version": 3
   },
   "file_extension": ".py",
   "mimetype": "text/x-python",
   "name": "python",
   "nbconvert_exporter": "python",
   "pygments_lexer": "ipython3",
   "version": "3.7.7"
  }
 },
 "nbformat": 4,
 "nbformat_minor": 4
}
